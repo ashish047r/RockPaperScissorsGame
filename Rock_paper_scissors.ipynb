{
  "nbformat": 4,
  "nbformat_minor": 0,
  "metadata": {
    "colab": {
      "provenance": []
    },
    "kernelspec": {
      "name": "python3",
      "display_name": "Python 3"
    },
    "language_info": {
      "name": "python"
    }
  },
  "cells": [
    {
      "cell_type": "code",
      "source": [
        "import random\n",
        "\n",
        "user_points = 0\n",
        "computer_points = 0\n",
        "\n",
        "while True:\n",
        "    options = [\"rock\", \"paper\", \"scissors\"]\n",
        "    user_input = input(\"Choose rock, paper, scissors, or exit: \").lower()\n",
        "\n",
        "    if user_input == \"exit\":\n",
        "        print(\"Game ended\")\n",
        "        print(f\"You won a total score of {user_points} and the computer's total score is {computer_points}\")\n",
        "        break\n",
        "\n",
        "    if user_input not in options:\n",
        "        print(\"Invalid Input\")\n",
        "        continue\n",
        "\n",
        "    computer_input = random.choice(options)\n",
        "\n",
        "    print(f\"Your input is {user_input}\")\n",
        "    print(f\"Computer input is {computer_input}\")\n",
        "\n",
        "    if user_input == computer_input:\n",
        "        print(\"It's a tie!\")\n",
        "    elif (user_input == \"rock\" and computer_input == \"scissors\") or \\\n",
        "         (user_input == \"paper\" and computer_input == \"rock\") or \\\n",
        "         (user_input == \"scissors\" and computer_input == \"paper\"):\n",
        "        print(\"You win!\")\n",
        "        user_points += 1\n",
        "    else:\n",
        "        print(\"Computer wins!\")\n",
        "        computer_points += 1\n"
      ],
      "metadata": {
        "colab": {
          "base_uri": "https://localhost:8080/"
        },
        "id": "qIauKkgdKhEu",
        "outputId": "48a4d8cb-a169-47af-ed22-33bb6a3f7fbe"
      },
      "execution_count": 2,
      "outputs": [
        {
          "output_type": "stream",
          "name": "stdout",
          "text": [
            "Choose rock, paper, scissors, or exit: rock\n",
            "Your input is rock\n",
            "Computer input is scissors\n",
            "You win!\n",
            "Choose rock, paper, scissors, or exit: scissors\n",
            "Your input is scissors\n",
            "Computer input is rock\n",
            "Computer wins!\n",
            "Choose rock, paper, scissors, or exit: exit\n",
            "Game ended\n",
            "You won a total score of 1 and the computer's total score is 1\n"
          ]
        }
      ]
    },
    {
      "cell_type": "code",
      "source": [],
      "metadata": {
        "id": "uXa6xCW2soa1"
      },
      "execution_count": null,
      "outputs": []
    }
  ]
}